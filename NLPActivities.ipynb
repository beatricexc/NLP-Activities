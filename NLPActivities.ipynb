{
  "nbformat": 4,
  "nbformat_minor": 0,
  "metadata": {
    "colab": {
      "name": "NLPActivities.ipynb",
      "provenance": [],
      "authorship_tag": "ABX9TyPxcsuMGZcL2wo3if3/OVRt",
      "include_colab_link": true
    },
    "kernelspec": {
      "name": "python3",
      "display_name": "Python 3"
    },
    "language_info": {
      "name": "python"
    }
  },
  "cells": [
    {
      "cell_type": "markdown",
      "metadata": {
        "id": "view-in-github",
        "colab_type": "text"
      },
      "source": [
        "<a href=\"https://colab.research.google.com/github/beatricexc/NLP-Activities/blob/main/NLPActivities.ipynb\" target=\"_parent\"><img src=\"https://colab.research.google.com/assets/colab-badge.svg\" alt=\"Open In Colab\"/></a>"
      ]
    },
    {
      "cell_type": "markdown",
      "metadata": {
        "id": "OfUBtrK2xmZq"
      },
      "source": [
        "**Exercise 1. Reading from a text file**"
      ]
    },
    {
      "cell_type": "code",
      "metadata": {
        "colab": {
          "base_uri": "https://localhost:8080/"
        },
        "id": "2KT7sGOUth9k",
        "outputId": "94d03e7d-3de5-414c-8fd6-951d5caeb762"
      },
      "source": [
        "file=open(file='foo.txt', mode='r')\n",
        "lines=file.readlines()\n",
        "print(lines)\n",
        "file.close()"
      ],
      "execution_count": null,
      "outputs": [
        {
          "output_type": "stream",
          "name": "stdout",
          "text": [
            "['Edge Hill University is a campus-based public university in Ormskirk, Lancashire, England, which opened in 1885 as Edge Hill College, the first non-denominational teacher training college for women in England, before admitting its first male students in 1959. \\n', 'In 2005, Edge Hill was granted Taught Degree Awarding Powers by the Privy Council and became Edge Hill University on 18 May 2006.']\n"
          ]
        }
      ]
    },
    {
      "cell_type": "code",
      "metadata": {
        "id": "6-YzfXOQusjx"
      },
      "source": [
        "file=open(file='foo.txt', mode='r')\n",
        "lines=file.readlines()\n",
        "document= ''\n",
        "for line in lines:\n",
        "  document += line\n",
        "print(document)\n",
        "file.close()\n"
      ],
      "execution_count": null,
      "outputs": []
    },
    {
      "cell_type": "markdown",
      "metadata": {
        "id": "GOx5ytLmx5z3"
      },
      "source": [
        "**Exercise 2. Writing into a text file**\n"
      ]
    },
    {
      "cell_type": "code",
      "metadata": {
        "id": "T0eG7UzDyK7T"
      },
      "source": [
        "file=open('my_foo.txt', 'w')\n",
        "file.write('This is my first sentence.\\n')\n",
        "file.write('This is my second sentence.\\n')\n",
        "file.close()"
      ],
      "execution_count": null,
      "outputs": []
    },
    {
      "cell_type": "markdown",
      "metadata": {
        "id": "djM_BqMmzE-c"
      },
      "source": [
        "**Exercise 3: Reading from a CSV file**"
      ]
    },
    {
      "cell_type": "code",
      "metadata": {
        "colab": {
          "base_uri": "https://localhost:8080/"
        },
        "id": "JE0p1iVCzqSk",
        "outputId": "88a7d736-b2e5-4918-fb65-da0b44733cd6"
      },
      "source": [
        "file=open(file='james_bond_movies.csv', mode='r')\n",
        "lines = file.readlines()\n",
        "movie_names =''\n",
        "for line in lines:\n",
        "  movie_name =line.split('\\t')[0]\n",
        "  movie_names += movie_name + '\\n'\n",
        "print(movie_names)\n",
        "file.close()"
      ],
      "execution_count": null,
      "outputs": [
        {
          "output_type": "stream",
          "name": "stdout",
          "text": [
            "Never Say Never Again\n",
            "Dr. No\n",
            "From Russia With Love\n",
            "Goldfinger\n",
            "Thunderball\n",
            "You Only Live Twice\n",
            "On Her Majesty's Secret Service\n",
            "Diamonds Are Forever\n",
            "\n"
          ]
        }
      ]
    },
    {
      "cell_type": "markdown",
      "metadata": {
        "id": "M_2dyJ7F0boU"
      },
      "source": [
        "**Exercise 4**:Write a Python script that:\n",
        "                  a) reads the james_bond_movies.csv file and stores the director names into : 1) a list and2) into a single variable\n",
        "\n",
        "                  b) read teh director names from the james_bond_movies.csv file and saves the director names into a new file called 'director_names.txt.'"
      ]
    },
    {
      "cell_type": "code",
      "metadata": {
        "colab": {
          "base_uri": "https://localhost:8080/"
        },
        "id": "Uzyq_UrZ1Pcb",
        "outputId": "b12c3be3-3189-43af-ffb8-b1e5dbbe4123"
      },
      "source": [
        "#a) 1.\n",
        "file = open(file='james_bond_movies.csv', mode='r')\n",
        "lines =file.readlines()\n",
        "print(lines)\n",
        "file.close()"
      ],
      "execution_count": null,
      "outputs": [
        {
          "output_type": "stream",
          "name": "stdout",
          "text": [
            "['Never Say Never Again\\tIrvin Kershner\\n', 'Dr. No\\tTerence Young\\n', 'From Russia With Love\\tTerence Young\\n', 'Goldfinger\\tGuy Hamilton\\n', 'Thunderball\\tTerence Young\\n', 'You Only Live Twice\\tLewis Gilbert\\n', \"On Her Majesty's Secret Service\\tPeter Hunt\\n\", 'Diamonds Are Forever\\tGuy Hamilton\\n']\n"
          ]
        }
      ]
    },
    {
      "cell_type": "code",
      "metadata": {
        "colab": {
          "base_uri": "https://localhost:8080/"
        },
        "id": "SjD36Nab1sBw",
        "outputId": "bb1c1537-8e83-477c-b2a0-00f928e2431b"
      },
      "source": [
        "#a) 2.\n",
        "file = open(file='james_bond_movies.csv', mode='r')\n",
        "lines = file.readlines()\n",
        "document= ''\n",
        "for line in lines: \n",
        "  document += line + '\\t'+ '\\n'\n",
        "print(document)\n",
        "file.close()"
      ],
      "execution_count": null,
      "outputs": [
        {
          "output_type": "stream",
          "name": "stdout",
          "text": [
            "Never Say Never Again\tIrvin Kershner\n",
            "\t\n",
            "Dr. No\tTerence Young\n",
            "\t\n",
            "From Russia With Love\tTerence Young\n",
            "\t\n",
            "Goldfinger\tGuy Hamilton\n",
            "\t\n",
            "Thunderball\tTerence Young\n",
            "\t\n",
            "You Only Live Twice\tLewis Gilbert\n",
            "\t\n",
            "On Her Majesty's Secret Service\tPeter Hunt\n",
            "\t\n",
            "Diamonds Are Forever\tGuy Hamilton\n",
            "\t\n",
            "\n"
          ]
        }
      ]
    },
    {
      "cell_type": "code",
      "metadata": {
        "colab": {
          "base_uri": "https://localhost:8080/"
        },
        "id": "PYgISZtX4PMZ",
        "outputId": "dee7a8d3-2af4-485b-f5b6-152ceb269ef3"
      },
      "source": [
        "file=open(file='james_bond_movies.csv', mode='r')\n",
        "lines= file.readlines()\n",
        "director_names = ''\n",
        "for line in lines:\n",
        "  director_name = line.split('\\t')[1]\n",
        "  director_names += director_name + '\\n'\n",
        "print(director_names)\n",
        "file.close()"
      ],
      "execution_count": null,
      "outputs": [
        {
          "output_type": "stream",
          "name": "stdout",
          "text": [
            "Irvin Kershner\n",
            "\n",
            "Terence Young\n",
            "\n",
            "Terence Young\n",
            "\n",
            "Guy Hamilton\n",
            "\n",
            "Terence Young\n",
            "\n",
            "Lewis Gilbert\n",
            "\n",
            "Peter Hunt\n",
            "\n",
            "Guy Hamilton\n",
            "\n",
            "\n"
          ]
        }
      ]
    },
    {
      "cell_type": "markdown",
      "metadata": {
        "id": "_o0bQ_5i6VCR"
      },
      "source": [
        "b)\treads the director names from the james_bond_movies.csv file and saves the director names into a new file called ‘director_names.txt’"
      ]
    },
    {
      "cell_type": "code",
      "metadata": {
        "id": "PL7K8Si47l5H"
      },
      "source": [
        "file=open(file='director_names', mode='w')\n",
        "file.write('Irvin Kershner \\n')\n",
        "file.write('Terence Young \\n')\n",
        "file.write('Guy Hamilton \\n')\n",
        "file.write('Lewis Gilbert')\n",
        "file.write('Peter Hunt')\n",
        "file.close()"
      ],
      "execution_count": null,
      "outputs": []
    }
  ]
}